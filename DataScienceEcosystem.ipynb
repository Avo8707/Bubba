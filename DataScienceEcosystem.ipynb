{
 "cells": [
  {
   "cell_type": "markdown",
   "id": "573a000d-2ae7-40d5-9d16-951dfb9d2b46",
   "metadata": {},
   "source": [
    "# Data Science Tools and Ecosystem"
   ]
  },
  {
   "cell_type": "markdown",
   "id": "567754e7-4bf8-4367-b9e6-25290e9b7901",
   "metadata": {},
   "source": [
    "## Author: \n",
    "Timothy Pauldon"
   ]
  },
  {
   "cell_type": "markdown",
   "id": "572644ce-73a5-48bd-ad1d-93140025d3ef",
   "metadata": {},
   "source": [
    "In this notebook, Data Science Tools and Ecosystem are summarized."
   ]
  },
  {
   "cell_type": "markdown",
   "id": "e00205b0-79cd-4406-8ae0-2bce2d351450",
   "metadata": {},
   "source": [
    "__Objectives:__\n",
    "*  List popular languages for Data Science\n",
    "*  List commonly used libraries\n",
    "*  List data science tools"
   ]
  },
  {
   "cell_type": "markdown",
   "id": "f6006d34-68aa-4352-aab3-9955a9e84c10",
   "metadata": {},
   "source": [
    "Some of the popular languages that Data Scientists use are:"
   ]
  },
  {
   "cell_type": "markdown",
   "id": "1bddf028-fcad-4a90-b735-db5dbdea1ae3",
   "metadata": {},
   "source": [
    "1. Python\n",
    "2. R\n",
    "3. Javascript\n",
    "4. C++"
   ]
  },
  {
   "cell_type": "markdown",
   "id": "a4871bdc-e714-40a4-9730-76f3431a1a8c",
   "metadata": {},
   "source": [
    "Some of the commonly used libraries used by Data Scientists include:"
   ]
  },
  {
   "cell_type": "markdown",
   "id": "b0ec30aa-26b0-4203-bd16-a0b20d3490dd",
   "metadata": {},
   "source": [
    "1. Pandas\n",
    "2. Numpy\n",
    "3. Matplotlib\n",
    "4. Plotly"
   ]
  },
  {
   "cell_type": "code",
   "execution_count": null,
   "id": "24518f94-ea62-4239-85c4-b43f2cf1c92f",
   "metadata": {},
   "outputs": [],
   "source": [
    "|Data Science Tools|\n",
    "|-------------------|\n",
    "|Jupyter Notebook|\n",
    "|VS Code|\n",
    "|R Studio|"
   ]
  },
  {
   "cell_type": "markdown",
   "id": "a7b9b776-ab61-440b-b416-ae0f5507edfa",
   "metadata": {},
   "source": [
    "### Below are a few examples of evaluating arithmetic expressions in Python"
   ]
  },
  {
   "cell_type": "code",
   "execution_count": 6,
   "id": "343af778-ecd0-406a-867a-4b0f0a207088",
   "metadata": {},
   "outputs": [
    {
     "data": {
      "text/plain": [
       "17"
      ]
     },
     "execution_count": 6,
     "metadata": {},
     "output_type": "execute_result"
    }
   ],
   "source": [
    "# This a simple arithmetic expression to mutiply then add integers\n",
    "(3*4)+5"
   ]
  },
  {
   "cell_type": "code",
   "execution_count": 7,
   "id": "0df6f7ec-bc48-4ae6-83f3-4fbaf931978f",
   "metadata": {},
   "outputs": [
    {
     "data": {
      "text/plain": [
       "3.3333333333333335"
      ]
     },
     "execution_count": 7,
     "metadata": {},
     "output_type": "execute_result"
    }
   ],
   "source": [
    "#This will convert 200 minutes to hours by diving by 60\n",
    "\n",
    "200/60"
   ]
  },
  {
   "cell_type": "code",
   "execution_count": null,
   "id": "799d28f2-65e2-45c2-8346-81d595bcdd53",
   "metadata": {},
   "outputs": [],
   "source": []
  }
 ],
 "metadata": {
  "kernelspec": {
   "display_name": "Python 3 (ipykernel)",
   "language": "python",
   "name": "python3"
  },
  "language_info": {
   "codemirror_mode": {
    "name": "ipython",
    "version": 3
   },
   "file_extension": ".py",
   "mimetype": "text/x-python",
   "name": "python",
   "nbconvert_exporter": "python",
   "pygments_lexer": "ipython3",
   "version": "3.12.8"
  }
 },
 "nbformat": 4,
 "nbformat_minor": 5
}
